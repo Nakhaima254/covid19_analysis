{
 "cells": [
  {
   "cell_type": "code",
   "execution_count": null,
   "id": "470b9564",
   "metadata": {},
   "outputs": [
    {
     "ename": "KeyboardInterrupt",
     "evalue": "",
     "output_type": "error",
     "traceback": [
      "\u001b[31m---------------------------------------------------------------------------\u001b[39m",
      "\u001b[31mKeyboardInterrupt\u001b[39m                         Traceback (most recent call last)",
      "\u001b[36mCell\u001b[39m\u001b[36m \u001b[39m\u001b[32mIn[7]\u001b[39m\u001b[32m, line 2\u001b[39m\n\u001b[32m      1\u001b[39m \u001b[38;5;28;01mimport\u001b[39;00m\u001b[38;5;250m \u001b[39m\u001b[34;01mpandas\u001b[39;00m\u001b[38;5;250m \u001b[39m\u001b[38;5;28;01mas\u001b[39;00m\u001b[38;5;250m \u001b[39m\u001b[34;01mpd\u001b[39;00m\n\u001b[32m----> \u001b[39m\u001b[32m2\u001b[39m df = \u001b[43mpd\u001b[49m\u001b[43m.\u001b[49m\u001b[43mread_csv\u001b[49m\u001b[43m(\u001b[49m\u001b[33;43m\"\u001b[39;49m\u001b[33;43mmetadata.csv\u001b[39;49m\u001b[33;43m\"\u001b[39;49m\u001b[43m)\u001b[49m\n",
      "\u001b[36mFile \u001b[39m\u001b[32md:\\PLP CODE\\Jul 2025 Cohort\\PYTHON MODULE\\Week 8\\.venv\\Lib\\site-packages\\pandas\\io\\parsers\\readers.py:1026\u001b[39m, in \u001b[36mread_csv\u001b[39m\u001b[34m(filepath_or_buffer, sep, delimiter, header, names, index_col, usecols, dtype, engine, converters, true_values, false_values, skipinitialspace, skiprows, skipfooter, nrows, na_values, keep_default_na, na_filter, verbose, skip_blank_lines, parse_dates, infer_datetime_format, keep_date_col, date_parser, date_format, dayfirst, cache_dates, iterator, chunksize, compression, thousands, decimal, lineterminator, quotechar, quoting, doublequote, escapechar, comment, encoding, encoding_errors, dialect, on_bad_lines, delim_whitespace, low_memory, memory_map, float_precision, storage_options, dtype_backend)\u001b[39m\n\u001b[32m   1013\u001b[39m kwds_defaults = _refine_defaults_read(\n\u001b[32m   1014\u001b[39m     dialect,\n\u001b[32m   1015\u001b[39m     delimiter,\n\u001b[32m   (...)\u001b[39m\u001b[32m   1022\u001b[39m     dtype_backend=dtype_backend,\n\u001b[32m   1023\u001b[39m )\n\u001b[32m   1024\u001b[39m kwds.update(kwds_defaults)\n\u001b[32m-> \u001b[39m\u001b[32m1026\u001b[39m \u001b[38;5;28;01mreturn\u001b[39;00m \u001b[43m_read\u001b[49m\u001b[43m(\u001b[49m\u001b[43mfilepath_or_buffer\u001b[49m\u001b[43m,\u001b[49m\u001b[43m \u001b[49m\u001b[43mkwds\u001b[49m\u001b[43m)\u001b[49m\n",
      "\u001b[36mFile \u001b[39m\u001b[32md:\\PLP CODE\\Jul 2025 Cohort\\PYTHON MODULE\\Week 8\\.venv\\Lib\\site-packages\\pandas\\io\\parsers\\readers.py:626\u001b[39m, in \u001b[36m_read\u001b[39m\u001b[34m(filepath_or_buffer, kwds)\u001b[39m\n\u001b[32m    623\u001b[39m     \u001b[38;5;28;01mreturn\u001b[39;00m parser\n\u001b[32m    625\u001b[39m \u001b[38;5;28;01mwith\u001b[39;00m parser:\n\u001b[32m--> \u001b[39m\u001b[32m626\u001b[39m     \u001b[38;5;28;01mreturn\u001b[39;00m \u001b[43mparser\u001b[49m\u001b[43m.\u001b[49m\u001b[43mread\u001b[49m\u001b[43m(\u001b[49m\u001b[43mnrows\u001b[49m\u001b[43m)\u001b[49m\n",
      "\u001b[36mFile \u001b[39m\u001b[32md:\\PLP CODE\\Jul 2025 Cohort\\PYTHON MODULE\\Week 8\\.venv\\Lib\\site-packages\\pandas\\io\\parsers\\readers.py:1923\u001b[39m, in \u001b[36mTextFileReader.read\u001b[39m\u001b[34m(self, nrows)\u001b[39m\n\u001b[32m   1916\u001b[39m nrows = validate_integer(\u001b[33m\"\u001b[39m\u001b[33mnrows\u001b[39m\u001b[33m\"\u001b[39m, nrows)\n\u001b[32m   1917\u001b[39m \u001b[38;5;28;01mtry\u001b[39;00m:\n\u001b[32m   1918\u001b[39m     \u001b[38;5;66;03m# error: \"ParserBase\" has no attribute \"read\"\u001b[39;00m\n\u001b[32m   1919\u001b[39m     (\n\u001b[32m   1920\u001b[39m         index,\n\u001b[32m   1921\u001b[39m         columns,\n\u001b[32m   1922\u001b[39m         col_dict,\n\u001b[32m-> \u001b[39m\u001b[32m1923\u001b[39m     ) = \u001b[38;5;28;43mself\u001b[39;49m\u001b[43m.\u001b[49m\u001b[43m_engine\u001b[49m\u001b[43m.\u001b[49m\u001b[43mread\u001b[49m\u001b[43m(\u001b[49m\u001b[43m  \u001b[49m\u001b[38;5;66;43;03m# type: ignore[attr-defined]\u001b[39;49;00m\n\u001b[32m   1924\u001b[39m \u001b[43m        \u001b[49m\u001b[43mnrows\u001b[49m\n\u001b[32m   1925\u001b[39m \u001b[43m    \u001b[49m\u001b[43m)\u001b[49m\n\u001b[32m   1926\u001b[39m \u001b[38;5;28;01mexcept\u001b[39;00m \u001b[38;5;167;01mException\u001b[39;00m:\n\u001b[32m   1927\u001b[39m     \u001b[38;5;28mself\u001b[39m.close()\n",
      "\u001b[36mFile \u001b[39m\u001b[32md:\\PLP CODE\\Jul 2025 Cohort\\PYTHON MODULE\\Week 8\\.venv\\Lib\\site-packages\\pandas\\io\\parsers\\c_parser_wrapper.py:234\u001b[39m, in \u001b[36mCParserWrapper.read\u001b[39m\u001b[34m(self, nrows)\u001b[39m\n\u001b[32m    232\u001b[39m \u001b[38;5;28;01mtry\u001b[39;00m:\n\u001b[32m    233\u001b[39m     \u001b[38;5;28;01mif\u001b[39;00m \u001b[38;5;28mself\u001b[39m.low_memory:\n\u001b[32m--> \u001b[39m\u001b[32m234\u001b[39m         chunks = \u001b[38;5;28;43mself\u001b[39;49m\u001b[43m.\u001b[49m\u001b[43m_reader\u001b[49m\u001b[43m.\u001b[49m\u001b[43mread_low_memory\u001b[49m\u001b[43m(\u001b[49m\u001b[43mnrows\u001b[49m\u001b[43m)\u001b[49m\n\u001b[32m    235\u001b[39m         \u001b[38;5;66;03m# destructive to chunks\u001b[39;00m\n\u001b[32m    236\u001b[39m         data = _concatenate_chunks(chunks)\n",
      "\u001b[36mFile \u001b[39m\u001b[32mpandas/_libs/parsers.pyx:838\u001b[39m, in \u001b[36mpandas._libs.parsers.TextReader.read_low_memory\u001b[39m\u001b[34m()\u001b[39m\n",
      "\u001b[36mFile \u001b[39m\u001b[32mpandas/_libs/parsers.pyx:921\u001b[39m, in \u001b[36mpandas._libs.parsers.TextReader._read_rows\u001b[39m\u001b[34m()\u001b[39m\n",
      "\u001b[36mFile \u001b[39m\u001b[32mpandas/_libs/parsers.pyx:1083\u001b[39m, in \u001b[36mpandas._libs.parsers.TextReader._convert_column_data\u001b[39m\u001b[34m()\u001b[39m\n",
      "\u001b[36mFile \u001b[39m\u001b[32mpandas/_libs/parsers.pyx:1456\u001b[39m, in \u001b[36mpandas._libs.parsers._maybe_upcast\u001b[39m\u001b[34m()\u001b[39m\n",
      "\u001b[36mFile \u001b[39m\u001b[32md:\\PLP CODE\\Jul 2025 Cohort\\PYTHON MODULE\\Week 8\\.venv\\Lib\\site-packages\\numpy\\_core\\multiarray.py:1156\u001b[39m, in \u001b[36mputmask\u001b[39m\u001b[34m(a, mask, values)\u001b[39m\n\u001b[32m   1108\u001b[39m \u001b[38;5;250m    \u001b[39m\u001b[33;03m\"\"\"\u001b[39;00m\n\u001b[32m   1109\u001b[39m \u001b[33;03m    copyto(dst, src, casting='same_kind', where=True)\u001b[39;00m\n\u001b[32m   1110\u001b[39m \n\u001b[32m   (...)\u001b[39m\u001b[32m   1151\u001b[39m \n\u001b[32m   1152\u001b[39m \u001b[33;03m    \"\"\"\u001b[39;00m\n\u001b[32m   1153\u001b[39m     \u001b[38;5;28;01mreturn\u001b[39;00m (dst, src, where)\n\u001b[32m-> \u001b[39m\u001b[32m1156\u001b[39m \u001b[38;5;129m@array_function_from_c_func_and_dispatcher\u001b[39m(_multiarray_umath.putmask)\n\u001b[32m   1157\u001b[39m \u001b[38;5;28;01mdef\u001b[39;00m\u001b[38;5;250m \u001b[39m\u001b[34mputmask\u001b[39m(a, /, mask, values):\n\u001b[32m   1158\u001b[39m \u001b[38;5;250m    \u001b[39m\u001b[33;03m\"\"\"\u001b[39;00m\n\u001b[32m   1159\u001b[39m \u001b[33;03m    putmask(a, mask, values)\u001b[39;00m\n\u001b[32m   1160\u001b[39m \n\u001b[32m   (...)\u001b[39m\u001b[32m   1197\u001b[39m \n\u001b[32m   1198\u001b[39m \u001b[33;03m    \"\"\"\u001b[39;00m\n\u001b[32m   1199\u001b[39m     \u001b[38;5;28;01mreturn\u001b[39;00m (a, mask, values)\n",
      "\u001b[31mKeyboardInterrupt\u001b[39m: "
     ]
    }
   ],
   "source": [
    "!pip install matplotlib\n",
    "import pandas as pd\n",
    "df = pd.read_csv(\"metadata.csv\")\n"
   ]
  },
  {
   "cell_type": "code",
   "execution_count": null,
   "id": "5ec59d02",
   "metadata": {},
   "outputs": [
    {
     "name": "stdout",
     "output_type": "stream",
     "text": [
      "(1056660, 19)\n",
      "<class 'pandas.core.frame.DataFrame'>\n",
      "RangeIndex: 1056660 entries, 0 to 1056659\n",
      "Data columns (total 19 columns):\n",
      " #   Column            Non-Null Count    Dtype  \n",
      "---  ------            --------------    -----  \n",
      " 0   cord_uid          1056660 non-null  object \n",
      " 1   sha               373766 non-null   object \n",
      " 2   source_x          1056660 non-null  object \n",
      " 3   title             1056157 non-null  object \n",
      " 4   doi               656780 non-null   object \n",
      " 5   pmcid             389571 non-null   object \n",
      " 6   pubmed_id         498932 non-null   object \n",
      " 7   license           1056660 non-null  object \n",
      " 8   abstract          821116 non-null   object \n",
      " 9   publish_time      1054846 non-null  object \n",
      " 10  authors           1032791 non-null  object \n",
      " 11  journal           969338 non-null   object \n",
      " 12  mag_id            0 non-null        float64\n",
      " 13  who_covidence_id  482935 non-null   object \n",
      " 14  arxiv_id          14249 non-null    object \n",
      " 15  pdf_json_files    373766 non-null   object \n",
      " 16  pmc_json_files    315742 non-null   object \n",
      " 17  url               686934 non-null   object \n",
      " 18  s2_id             976468 non-null   float64\n",
      "dtypes: float64(2), object(17)\n",
      "memory usage: 153.2+ MB\n",
      "None\n",
      "   cord_uid                                       sha source_x  \\\n",
      "0  ug7v899j  d1aafb70c066a2068b02786f8929fd9c900897fb      PMC   \n",
      "1  02tnwd4m  6b0567729c2143a66d737eb0a2f63f2dce2e5a7d      PMC   \n",
      "2  ejv2xln0  06ced00a5fc04215949aa72528f2eeaae1d58927      PMC   \n",
      "3  2b73a28n  348055649b6b8cf2b9a376498df9bf41f7123605      PMC   \n",
      "4  9785vg6d  5f48792a5fa08bed9f56016f4981ae2ca6031b32      PMC   \n",
      "\n",
      "                                               title                    doi  \\\n",
      "0  Clinical features of culture-proven Mycoplasma...  10.1186/1471-2334-1-6   \n",
      "1  Nitric oxide: a pro-inflammatory mediator in l...           10.1186/rr14   \n",
      "2    Surfactant protein-D and pulmonary host defense           10.1186/rr19   \n",
      "3               Role of endothelin-1 in lung disease           10.1186/rr44   \n",
      "4  Gene expression in epithelial cells in respons...           10.1186/rr61   \n",
      "\n",
      "      pmcid pubmed_id license  \\\n",
      "0  PMC35282  11472636   no-cc   \n",
      "1  PMC59543  11667967   no-cc   \n",
      "2  PMC59549  11667972   no-cc   \n",
      "3  PMC59574  11686871   no-cc   \n",
      "4  PMC59580  11686888   no-cc   \n",
      "\n",
      "                                            abstract publish_time  \\\n",
      "0  OBJECTIVE: This retrospective chart review des...   2001-07-04   \n",
      "1  Inflammatory diseases of the respiratory tract...   2000-08-15   \n",
      "2  Surfactant protein-D (SP-D) participates in th...   2000-08-25   \n",
      "3  Endothelin-1 (ET-1) is a 21 amino acid peptide...   2001-02-22   \n",
      "4  Respiratory syncytial virus (RSV) and pneumoni...   2001-05-11   \n",
      "\n",
      "                                             authors         journal  mag_id  \\\n",
      "0                Madani, Tariq A; Al-Ghamdi, Aisha A  BMC Infect Dis     NaN   \n",
      "1  Vliet, Albert van der; Eiserich, Jason P; Cros...      Respir Res     NaN   \n",
      "2                                    Crouch, Erika C      Respir Res     NaN   \n",
      "3  Fagan, Karen A; McMurtry, Ivan F; Rodman, David M      Respir Res     NaN   \n",
      "4  Domachowske, Joseph B; Bonville, Cynthia A; Ro...      Respir Res     NaN   \n",
      "\n",
      "  who_covidence_id arxiv_id  \\\n",
      "0              NaN      NaN   \n",
      "1              NaN      NaN   \n",
      "2              NaN      NaN   \n",
      "3              NaN      NaN   \n",
      "4              NaN      NaN   \n",
      "\n",
      "                                      pdf_json_files  \\\n",
      "0  document_parses/pdf_json/d1aafb70c066a2068b027...   \n",
      "1  document_parses/pdf_json/6b0567729c2143a66d737...   \n",
      "2  document_parses/pdf_json/06ced00a5fc04215949aa...   \n",
      "3  document_parses/pdf_json/348055649b6b8cf2b9a37...   \n",
      "4  document_parses/pdf_json/5f48792a5fa08bed9f560...   \n",
      "\n",
      "                               pmc_json_files  \\\n",
      "0  document_parses/pmc_json/PMC35282.xml.json   \n",
      "1  document_parses/pmc_json/PMC59543.xml.json   \n",
      "2  document_parses/pmc_json/PMC59549.xml.json   \n",
      "3  document_parses/pmc_json/PMC59574.xml.json   \n",
      "4  document_parses/pmc_json/PMC59580.xml.json   \n",
      "\n",
      "                                                 url  s2_id  \n",
      "0  https://www.ncbi.nlm.nih.gov/pmc/articles/PMC3...    NaN  \n",
      "1  https://www.ncbi.nlm.nih.gov/pmc/articles/PMC5...    NaN  \n",
      "2  https://www.ncbi.nlm.nih.gov/pmc/articles/PMC5...    NaN  \n",
      "3  https://www.ncbi.nlm.nih.gov/pmc/articles/PMC5...    NaN  \n",
      "4  https://www.ncbi.nlm.nih.gov/pmc/articles/PMC5...    NaN  \n"
     ]
    }
   ],
   "source": [
    "print(df.shape)      # rows & columns\n",
    "print(df.info())     # data types\n",
    "print(df.head())     # first 5 rows\n"
   ]
  },
  {
   "cell_type": "code",
   "execution_count": 8,
   "id": "d92653a2",
   "metadata": {},
   "outputs": [
    {
     "name": "stdout",
     "output_type": "stream",
     "text": [
      "cord_uid                  0\n",
      "sha                  682894\n",
      "source_x                  0\n",
      "title                   503\n",
      "doi                  399880\n",
      "pmcid                667089\n",
      "pubmed_id            557728\n",
      "license                   0\n",
      "abstract             235544\n",
      "publish_time           1814\n",
      "authors               23869\n",
      "journal               87322\n",
      "mag_id              1056660\n",
      "who_covidence_id     573725\n",
      "arxiv_id            1042411\n",
      "pdf_json_files       682894\n",
      "pmc_json_files       740918\n",
      "url                  369726\n",
      "s2_id                 80192\n",
      "dtype: int64\n"
     ]
    }
   ],
   "source": [
    "print(df.isnull().sum())\n"
   ]
  },
  {
   "cell_type": "code",
   "execution_count": 9,
   "id": "76487ddc",
   "metadata": {},
   "outputs": [
    {
     "name": "stdout",
     "output_type": "stream",
     "text": [
      "       mag_id         s2_id\n",
      "count     0.0  9.764680e+05\n",
      "mean      NaN  2.175871e+08\n",
      "std       NaN  5.312281e+07\n",
      "min       NaN  9.600000e+01\n",
      "25%       NaN  2.211411e+08\n",
      "50%       NaN  2.320829e+08\n",
      "75%       NaN  2.373948e+08\n",
      "max       NaN  2.491936e+08\n"
     ]
    }
   ],
   "source": [
    "print(df.describe())\n"
   ]
  },
  {
   "cell_type": "code",
   "execution_count": 10,
   "id": "15378d91",
   "metadata": {},
   "outputs": [
    {
     "name": "stdout",
     "output_type": "stream",
     "text": [
      "mag_id              1056660\n",
      "arxiv_id            1042411\n",
      "pmc_json_files       740918\n",
      "sha                  682894\n",
      "pdf_json_files       682894\n",
      "pmcid                667089\n",
      "who_covidence_id     573725\n",
      "pubmed_id            557728\n",
      "doi                  399880\n",
      "url                  369726\n",
      "dtype: int64\n"
     ]
    }
   ],
   "source": [
    "missing = df.isnull().sum().sort_values(ascending=False)\n",
    "print(missing.head(10))\n"
   ]
  },
  {
   "cell_type": "code",
   "execution_count": 13,
   "id": "b478484a",
   "metadata": {},
   "outputs": [],
   "source": [
    "df['publish_time'] = pd.to_datetime(df['publish_time'], errors='coerce')\n",
    "df['year'] = df['publish_time'].dt.year\n"
   ]
  },
  {
   "cell_type": "code",
   "execution_count": 14,
   "id": "464102e7",
   "metadata": {},
   "outputs": [],
   "source": [
    "df['abstract_word_count'] = df['abstract'].fillna(\"\").apply(lambda x: len(x.split()))\n"
   ]
  },
  {
   "cell_type": "code",
   "execution_count": 15,
   "id": "b3cce833",
   "metadata": {},
   "outputs": [
    {
     "ename": "ImportError",
     "evalue": "matplotlib is required for plotting when the default backend \"matplotlib\" is selected.",
     "output_type": "error",
     "traceback": [
      "\u001b[31m---------------------------------------------------------------------------\u001b[39m",
      "\u001b[31mImportError\u001b[39m                               Traceback (most recent call last)",
      "\u001b[36mCell\u001b[39m\u001b[36m \u001b[39m\u001b[32mIn[15]\u001b[39m\u001b[32m, line 2\u001b[39m\n\u001b[32m      1\u001b[39m year_counts = df[\u001b[33m'\u001b[39m\u001b[33myear\u001b[39m\u001b[33m'\u001b[39m].value_counts().sort_index()\n\u001b[32m----> \u001b[39m\u001b[32m2\u001b[39m \u001b[43myear_counts\u001b[49m\u001b[43m.\u001b[49m\u001b[43mplot\u001b[49m\u001b[43m(\u001b[49m\u001b[43mkind\u001b[49m\u001b[43m=\u001b[49m\u001b[33;43m\"\u001b[39;49m\u001b[33;43mbar\u001b[39;49m\u001b[33;43m\"\u001b[39;49m\u001b[43m,\u001b[49m\u001b[43m \u001b[49m\u001b[43mtitle\u001b[49m\u001b[43m=\u001b[49m\u001b[33;43m\"\u001b[39;49m\u001b[33;43mPublications by Year\u001b[39;49m\u001b[33;43m\"\u001b[39;49m\u001b[43m)\u001b[49m\n",
      "\u001b[36mFile \u001b[39m\u001b[32md:\\PLP CODE\\Jul 2025 Cohort\\PYTHON MODULE\\Week 8\\.venv\\Lib\\site-packages\\pandas\\plotting\\_core.py:947\u001b[39m, in \u001b[36mPlotAccessor.__call__\u001b[39m\u001b[34m(self, *args, **kwargs)\u001b[39m\n\u001b[32m    946\u001b[39m \u001b[38;5;28;01mdef\u001b[39;00m\u001b[38;5;250m \u001b[39m\u001b[34m__call__\u001b[39m(\u001b[38;5;28mself\u001b[39m, *args, **kwargs):\n\u001b[32m--> \u001b[39m\u001b[32m947\u001b[39m     plot_backend = \u001b[43m_get_plot_backend\u001b[49m\u001b[43m(\u001b[49m\u001b[43mkwargs\u001b[49m\u001b[43m.\u001b[49m\u001b[43mpop\u001b[49m\u001b[43m(\u001b[49m\u001b[33;43m\"\u001b[39;49m\u001b[33;43mbackend\u001b[39;49m\u001b[33;43m\"\u001b[39;49m\u001b[43m,\u001b[49m\u001b[43m \u001b[49m\u001b[38;5;28;43;01mNone\u001b[39;49;00m\u001b[43m)\u001b[49m\u001b[43m)\u001b[49m\n\u001b[32m    949\u001b[39m     x, y, kind, kwargs = \u001b[38;5;28mself\u001b[39m._get_call_args(\n\u001b[32m    950\u001b[39m         plot_backend.\u001b[34m__name__\u001b[39m, \u001b[38;5;28mself\u001b[39m._parent, args, kwargs\n\u001b[32m    951\u001b[39m     )\n\u001b[32m    953\u001b[39m     kind = \u001b[38;5;28mself\u001b[39m._kind_aliases.get(kind, kind)\n",
      "\u001b[36mFile \u001b[39m\u001b[32md:\\PLP CODE\\Jul 2025 Cohort\\PYTHON MODULE\\Week 8\\.venv\\Lib\\site-packages\\pandas\\plotting\\_core.py:1944\u001b[39m, in \u001b[36m_get_plot_backend\u001b[39m\u001b[34m(backend)\u001b[39m\n\u001b[32m   1941\u001b[39m \u001b[38;5;28;01mif\u001b[39;00m backend_str \u001b[38;5;129;01min\u001b[39;00m _backends:\n\u001b[32m   1942\u001b[39m     \u001b[38;5;28;01mreturn\u001b[39;00m _backends[backend_str]\n\u001b[32m-> \u001b[39m\u001b[32m1944\u001b[39m module = \u001b[43m_load_backend\u001b[49m\u001b[43m(\u001b[49m\u001b[43mbackend_str\u001b[49m\u001b[43m)\u001b[49m\n\u001b[32m   1945\u001b[39m _backends[backend_str] = module\n\u001b[32m   1946\u001b[39m \u001b[38;5;28;01mreturn\u001b[39;00m module\n",
      "\u001b[36mFile \u001b[39m\u001b[32md:\\PLP CODE\\Jul 2025 Cohort\\PYTHON MODULE\\Week 8\\.venv\\Lib\\site-packages\\pandas\\plotting\\_core.py:1874\u001b[39m, in \u001b[36m_load_backend\u001b[39m\u001b[34m(backend)\u001b[39m\n\u001b[32m   1872\u001b[39m         module = importlib.import_module(\u001b[33m\"\u001b[39m\u001b[33mpandas.plotting._matplotlib\u001b[39m\u001b[33m\"\u001b[39m)\n\u001b[32m   1873\u001b[39m     \u001b[38;5;28;01mexcept\u001b[39;00m \u001b[38;5;167;01mImportError\u001b[39;00m:\n\u001b[32m-> \u001b[39m\u001b[32m1874\u001b[39m         \u001b[38;5;28;01mraise\u001b[39;00m \u001b[38;5;167;01mImportError\u001b[39;00m(\n\u001b[32m   1875\u001b[39m             \u001b[33m\"\u001b[39m\u001b[33mmatplotlib is required for plotting when the \u001b[39m\u001b[33m\"\u001b[39m\n\u001b[32m   1876\u001b[39m             \u001b[33m'\u001b[39m\u001b[33mdefault backend \u001b[39m\u001b[33m\"\u001b[39m\u001b[33mmatplotlib\u001b[39m\u001b[33m\"\u001b[39m\u001b[33m is selected.\u001b[39m\u001b[33m'\u001b[39m\n\u001b[32m   1877\u001b[39m         ) \u001b[38;5;28;01mfrom\u001b[39;00m\u001b[38;5;250m \u001b[39m\u001b[38;5;28;01mNone\u001b[39;00m\n\u001b[32m   1878\u001b[39m     \u001b[38;5;28;01mreturn\u001b[39;00m module\n\u001b[32m   1880\u001b[39m found_backend = \u001b[38;5;28;01mFalse\u001b[39;00m\n",
      "\u001b[31mImportError\u001b[39m: matplotlib is required for plotting when the default backend \"matplotlib\" is selected."
     ]
    }
   ],
   "source": [
    "year_counts = df['year'].value_counts().sort_index()\n",
    "year_counts.plot(kind=\"bar\", title=\"Publications by Year\")\n"
   ]
  }
 ],
 "metadata": {
  "kernelspec": {
   "display_name": ".venv (3.13.5)",
   "language": "python",
   "name": "python3"
  },
  "language_info": {
   "codemirror_mode": {
    "name": "ipython",
    "version": 3
   },
   "file_extension": ".py",
   "mimetype": "text/x-python",
   "name": "python",
   "nbconvert_exporter": "python",
   "pygments_lexer": "ipython3",
   "version": "3.13.5"
  }
 },
 "nbformat": 4,
 "nbformat_minor": 5
}
